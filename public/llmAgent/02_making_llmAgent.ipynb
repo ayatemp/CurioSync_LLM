{
 "cells": [
  {
   "cell_type": "markdown",
   "id": "7d0169c9",
   "metadata": {},
   "source": [
    "# 初期設定"
   ]
  },
  {
   "cell_type": "markdown",
   "id": "455d44e9",
   "metadata": {},
   "source": [
    "`conda activate llmAgent`\n",
    "\n",
    "python_version = 3.11\n",
    "\n",
    "`pip install openai`\n",
    "\n",
    "`pip install python-dotenv`\n",
    "\n",
    "`pip install rich`"
   ]
  },
  {
   "cell_type": "markdown",
   "id": "a725f802",
   "metadata": {},
   "source": [
    "# APIで色々遊んでみる"
   ]
  },
  {
   "cell_type": "code",
   "execution_count": 1,
   "id": "6e604aea",
   "metadata": {},
   "outputs": [],
   "source": [
    "from dotenv import load_dotenv\n",
    "load_dotenv()\n",
    "\n",
    "import os \n",
    "OPENAI_APIKEY = os.getenv(\"OPENAI_APIKEY\")\n",
    "os.environ[\"OPENAI_API_KEY\"] = OPENAI_APIKEY"
   ]
  },
  {
   "cell_type": "code",
   "execution_count": 2,
   "id": "be1903f5",
   "metadata": {},
   "outputs": [
    {
     "name": "stdout",
     "output_type": "stream",
     "text": [
      "こんにちは！どういったことをお手伝いできますか？\n"
     ]
    }
   ],
   "source": [
    "from openai import OpenAI\n",
    "\n",
    "client = OpenAI()\n",
    "\n",
    "response = client.chat.completions.create(\n",
    "    temperature=0.0,\n",
    "    model=\"gpt-4o-mini\",\n",
    "    messages=[{\"role\": \"user\", \"content\": \"こんにちは\"}],\n",
    ")\n",
    "\n",
    "print(response.choices[0].message.content)"
   ]
  },
  {
   "cell_type": "code",
   "execution_count": 3,
   "id": "ffa91b2f",
   "metadata": {},
   "outputs": [
    {
     "data": {
      "text/plain": [
       "ChatCompletion(id='chatcmpl-BhrJEDoOwVBG0TcVE8cnt2E9iWKmu', choices=[Choice(finish_reason='stop', index=0, logprobs=None, message=ChatCompletionMessage(content='こんにちは！どういったことをお手伝いできますか？', refusal=None, role='assistant', annotations=[], audio=None, function_call=None, tool_calls=None))], created=1749792724, model='gpt-4o-mini-2024-07-18', object='chat.completion', service_tier='default', system_fingerprint='fp_34a54ae93c', usage=CompletionUsage(completion_tokens=14, prompt_tokens=8, total_tokens=22, completion_tokens_details=CompletionTokensDetails(accepted_prediction_tokens=0, audio_tokens=0, reasoning_tokens=0, rejected_prediction_tokens=0), prompt_tokens_details=PromptTokensDetails(audio_tokens=0, cached_tokens=0)))"
      ]
     },
     "execution_count": 3,
     "metadata": {},
     "output_type": "execute_result"
    }
   ],
   "source": [
    "response"
   ]
  },
  {
   "cell_type": "code",
   "execution_count": 4,
   "id": "3d03779a",
   "metadata": {},
   "outputs": [
    {
     "data": {
      "text/html": [
       "<pre style=\"white-space:pre;overflow-x:auto;line-height:normal;font-family:Menlo,'DejaVu Sans Mono',consolas,'Courier New',monospace\">{\n",
       "  \"id\": \"chatcmpl-BhrJEDoOwVBG0TcVE8cnt2E9iWKmu\",\n",
       "  \"choices\": [\n",
       "    {\n",
       "      \"finish_reason\": \"stop\",\n",
       "      \"index\": 0,\n",
       "      \"logprobs\": null,\n",
       "      \"message\": {\n",
       "        \"content\": \"こんにちは！どういったことをお手伝いできますか？\",\n",
       "        \"refusal\": null,\n",
       "        \"role\": \"assistant\",\n",
       "        \"annotations\": [],\n",
       "        \"audio\": null,\n",
       "        \"function_call\": null,\n",
       "        \"tool_calls\": null\n",
       "      }\n",
       "    }\n",
       "  ],\n",
       "  \"created\": 1749792724,\n",
       "  \"model\": \"gpt-4o-mini-2024-07-18\",\n",
       "  \"object\": \"chat.completion\",\n",
       "  \"service_tier\": \"default\",\n",
       "  \"system_fingerprint\": \"fp_34a54ae93c\",\n",
       "  \"usage\": {\n",
       "    \"completion_tokens\": 14,\n",
       "    \"prompt_tokens\": 8,\n",
       "    \"total_tokens\": 22,\n",
       "    \"completion_tokens_details\": {\n",
       "      \"accepted_prediction_tokens\": 0,\n",
       "      \"audio_tokens\": 0,\n",
       "      \"reasoning_tokens\": 0,\n",
       "      \"rejected_prediction_tokens\": 0\n",
       "    },\n",
       "    \"prompt_tokens_details\": {\n",
       "      \"audio_tokens\": 0,\n",
       "      \"cached_tokens\": 0\n",
       "    }\n",
       "  }\n",
       "}\n",
       "</pre>\n"
      ],
      "text/plain": [
       "{\n",
       "  \"id\": \"chatcmpl-BhrJEDoOwVBG0TcVE8cnt2E9iWKmu\",\n",
       "  \"choices\": [\n",
       "    {\n",
       "      \"finish_reason\": \"stop\",\n",
       "      \"index\": 0,\n",
       "      \"logprobs\": null,\n",
       "      \"message\": {\n",
       "        \"content\": \"こんにちは！どういったことをお手伝いできますか？\",\n",
       "        \"refusal\": null,\n",
       "        \"role\": \"assistant\",\n",
       "        \"annotations\": [],\n",
       "        \"audio\": null,\n",
       "        \"function_call\": null,\n",
       "        \"tool_calls\": null\n",
       "      }\n",
       "    }\n",
       "  ],\n",
       "  \"created\": 1749792724,\n",
       "  \"model\": \"gpt-4o-mini-2024-07-18\",\n",
       "  \"object\": \"chat.completion\",\n",
       "  \"service_tier\": \"default\",\n",
       "  \"system_fingerprint\": \"fp_34a54ae93c\",\n",
       "  \"usage\": {\n",
       "    \"completion_tokens\": 14,\n",
       "    \"prompt_tokens\": 8,\n",
       "    \"total_tokens\": 22,\n",
       "    \"completion_tokens_details\": {\n",
       "      \"accepted_prediction_tokens\": 0,\n",
       "      \"audio_tokens\": 0,\n",
       "      \"reasoning_tokens\": 0,\n",
       "      \"rejected_prediction_tokens\": 0\n",
       "    },\n",
       "    \"prompt_tokens_details\": {\n",
       "      \"audio_tokens\": 0,\n",
       "      \"cached_tokens\": 0\n",
       "    }\n",
       "  }\n",
       "}\n"
      ]
     },
     "metadata": {},
     "output_type": "display_data"
    }
   ],
   "source": [
    "from rich import print_json\n",
    "print_json(data=response.model_dump(), highlight=False)"
   ]
  },
  {
   "cell_type": "code",
   "execution_count": 5,
   "id": "98ce9011",
   "metadata": {},
   "outputs": [],
   "source": [
    "history = []\n",
    "n = 0 #会話回数の上限\n",
    "model = \"gpt-4o-mini\"\n",
    "for _ in range(n):\n",
    "    user_input = input(\"ユーザ入力: \")\n",
    "    if user_input == \"exit\":\n",
    "        break\n",
    "    print(f\"ユーザ： {user_input}\")\n",
    "    history.append({\"role\": \"user\", \"content\": user_input})\n",
    "    response = client.chat.completions.create(model=model, messages=history)\n",
    "    content = response.choices[0].message.content\n",
    "    print(f\"AI: {content}\")\n",
    "    history.append({\"role\": \"assistant\", \"content\": content})"
   ]
  },
  {
   "cell_type": "markdown",
   "id": "e1a5ec3a",
   "metadata": {},
   "source": [
    "modelが出力する文章を一気に最後見るのではなく，徐々に見るように変える"
   ]
  },
  {
   "cell_type": "code",
   "execution_count": 8,
   "id": "81faa593",
   "metadata": {},
   "outputs": [
    {
     "name": "stdout",
     "output_type": "stream",
     "text": [
      "ユーザ： 強化学習について教えてください\n",
      "AI: 強化学習（きょうかがくしゅう、Reinforcement Learning）は、機械学習の一分野で、エージェント（学習者）が環境と相互作用しながら最適な行動を学ぶアルゴリズムです。強化学習の目的は、長期的な報酬を最大化するための戦略（ポリシー）を学ぶことです。\n",
      "\n",
      "以下に強化学習の基本的な要素と概念を説明します。\n",
      "\n",
      "1. **エージェントと環境**:\n",
      "   - **エージェント**: 学習を行う存在で、行動を選択します。\n",
      "   - **環境**: エージェントが相互作用する外部の世界で、エージェントの行動に対する反応（報酬や新しい状態）を提供します。\n",
      "\n",
      "2. **状態（State）**:\n",
      "   - 環境の状況のことを指します。エージェントは現在の状態に基づいて行動を選択します。\n",
      "\n",
      "3. **行動（Action）**:\n",
      "   - エージェントが時間の中で選択できる可能性のあるアクションです。行動を選ぶことで、エージェントは環境に影響を与えます。\n",
      "\n",
      "4. **報酬（Reward）**:\n",
      "   - エージェントがある行動をとった結果得られるフィードバックのことです。短期的な評価となりますが、報酬が良ければその行動を強化したり、悪ければ避けるように学習します。\n",
      "\n",
      "5. **ポリシー（Policy）**:\n",
      "   - エージェントが特定の状態でどのような行動を選択するかを決定する戦略のことです。ポリシーは定常的（固定）または確率的に設定されることがあります。\n",
      "\n",
      "6. **価値関数（Value Function）**:\n",
      "   - 特定の状態や行動に対して期待される将来の報酬の合計を評価します。これによりエージェントは、どの状態やアクションが価値があるかを学習します。\n",
      "\n",
      "強化学習は、ゲームプレイ（例えば、チェスや囲碁）、ロボティクス、ナビゲーション、資源管理など、さまざまな分野で利用されています。最近では、深層強化学習（Deep Reinforcement Learning）と呼ばれる手法もあり、深層学習を組み合わせることで複雑な問題に対する性能を向上させています。\n",
      "\n",
      "強化学習は、試行錯誤を通じて学ぶため、データの収集と学習に時間がかかることがありますが、非常に柔軟で強力な学習方法です。\n"
     ]
    }
   ],
   "source": [
    "history = []\n",
    "n = 10 #会話回数の上限\n",
    "model = \"gpt-4o-mini\"\n",
    "for _ in range(n):\n",
    "    user_input = input(\"ユーザ入力: \")\n",
    "    if user_input == \"exit\":\n",
    "        break\n",
    "    print(f\"ユーザ： {user_input}\")\n",
    "    history.append({\"role\": \"user\", \"content\": user_input})\n",
    "    stream = client.chat.completions.create(model=model, messages=history, stream=True)\n",
    "    print(f\"AI: \", end=\"\")\n",
    "    ai_content = \"\"\n",
    "    for chunk in stream:\n",
    "        content = chunk.choices[0].delta.content\n",
    "        if chunk.choices[0].finish_reason == \"stop\":\n",
    "            break\n",
    "        print(content, end=\"\")\n",
    "        ai_content += content\n",
    "    print()\n",
    "    history.append({\"role\": \"assistant\", \"content\": ai_content})"
   ]
  },
  {
   "cell_type": "code",
   "execution_count": null,
   "id": "3bd98254",
   "metadata": {},
   "outputs": [],
   "source": [
    "# 画像を入力にしてみる\n",
    "import base64\n",
    "from pathlib import Path\n",
    "from typing import Any\n",
    "\n",
    "client = OpenAI()\n",
    "\n",
    "def image2content(image_path: Path) -> dict[str,Any]:\n",
    "    #base64エンコード\n",
    "    with image_path.open(\"rb\") as f:\n",
    "        image_base64 = base64.b64encode(f.read().decode(\"utf-8\"))\n",
    "    \n",
    "    content = {\"type:\": }"
   ]
  },
  {
   "cell_type": "code",
   "execution_count": null,
   "id": "08543c1c",
   "metadata": {},
   "outputs": [],
   "source": []
  }
 ],
 "metadata": {
  "kernelspec": {
   "display_name": "llmAent",
   "language": "python",
   "name": "python3"
  },
  "language_info": {
   "codemirror_mode": {
    "name": "ipython",
    "version": 3
   },
   "file_extension": ".py",
   "mimetype": "text/x-python",
   "name": "python",
   "nbconvert_exporter": "python",
   "pygments_lexer": "ipython3",
   "version": "3.12.11"
  }
 },
 "nbformat": 4,
 "nbformat_minor": 5
}
