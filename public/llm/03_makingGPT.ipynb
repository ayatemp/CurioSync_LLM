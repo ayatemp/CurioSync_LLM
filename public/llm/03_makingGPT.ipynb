{
 "cells": [
  {
   "cell_type": "markdown",
   "id": "66bebb9a",
   "metadata": {},
   "source": [
    "# 環境の説明\n",
    "```\n",
    "conda create -n LLMfromScratch python\n",
    "\n",
    "conda activate LLMfromScratch\n",
    "```\n",
    "ここからpipを使ってインストールする\n",
    "\n",
    "インストールしたもの\n",
    "\n",
    "`pip install tiktoken`\n",
    "\n",
    "`pip install torch`"
   ]
  },
  {
   "cell_type": "markdown",
   "id": "eb142bde",
   "metadata": {},
   "source": [
    "# テキストデータの読み込み"
   ]
  },
  {
   "cell_type": "markdown",
   "id": "bcb742b3",
   "metadata": {},
   "source": [
    "urllibを使ってtxtデータに変換する"
   ]
  },
  {
   "cell_type": "code",
   "execution_count": 1,
   "id": "be3584d7",
   "metadata": {},
   "outputs": [
    {
     "name": "stdout",
     "output_type": "stream",
     "text": [
      "/Users/kakuayato/Documents/GitHub/CurioSync_LLM/public/llm\n"
     ]
    }
   ],
   "source": [
    "!pwd"
   ]
  },
  {
   "cell_type": "code",
   "execution_count": 2,
   "id": "f3d2c5ef",
   "metadata": {},
   "outputs": [],
   "source": [
    "GPT_CONFIG_124M = {\n",
    "    \"vocab_size\": 50257,\n",
    "    \"context_length\": 1024,\n",
    "    \"emb_dim\": 768,\n",
    "    \"n_heads\": 12,\n",
    "    \"n_layers\": 12,\n",
    "    \"drop_rate\": 0.1,\n",
    "    \"qkv_bias\": False\n",
    "}"
   ]
  },
  {
   "cell_type": "markdown",
   "id": "3c931051",
   "metadata": {},
   "source": [
    "GPTバックボーンの作成"
   ]
  },
  {
   "cell_type": "code",
   "execution_count": 3,
   "id": "a5b68f57",
   "metadata": {},
   "outputs": [],
   "source": [
    "import torch \n",
    "import torch.nn as nn\n",
    "\n",
    "class DummyGPTModel(nn.Module):\n",
    "\n",
    "    def __init__(self, cfg):\n",
    "        super().__init__()\n",
    "        self.tok_emb = nn.Embedding(cfg[\"vocab_size\"], cfg[\"emb_dim\"])\n",
    "        self.pos_emb = nn.Embedding(cfg[\"context_length\"], cfg[\"emb_dim\"])\n",
    "        self.drop_emb = nn.Dropout(cfg[\"drop_rate\"])\n",
    "\n",
    "        self.trf_blocks = nn.Sequential(\n",
    "            #　ここはただただ入力値をtrfのブロック一つ一つに適応していくだけ\n",
    "            *[DummyTransformerBlock(cfg) for  _ in range(cfg[\"n_layers\"])]\n",
    "        )\n",
    "\n",
    "        self.final_norm = DummyLayerNorm(cfg[\"emb_dim\"]) # 正規化するだけ\n",
    "        self.out_head = nn.Linear(\n",
    "            # 行列の形を整える＋softmaxを入れて確率分布にしている\n",
    "            cfg[\"emb_dim\"], cfg[\"vocab_size\"], bias= False\n",
    "        )\n",
    "\n",
    "    def forward(self, in_idx):\n",
    "        batch_size, seq_len = in_idx.shape\n",
    "        tok_embeds = self.tok_emb(in_idx)\n",
    "        pos_embeds = self.pos_emb(\n",
    "            torch.arange(seq_len, device=in_idx.device)\n",
    "            # これはpos_idsをまず作成し，その番号にあったemd行列を割り振る必要があるから\n",
    "        )\n",
    "        x = tok_embeds + pos_embeds\n",
    "        x = self.drop_emb(x)\n",
    "        x = self.trf_blocks(x)\n",
    "        x = self.final_norm(x)\n",
    "        logits = self.out_head(x)\n",
    "        return logits\n",
    "    \n",
    "class DummyTransformerBlock(nn.Module):\n",
    "\n",
    "    def __init__(self, cfg):\n",
    "        super().__init__()\n",
    "    \n",
    "    def forward(self, x):\n",
    "        return x\n",
    "\n",
    "class DummyLayerNorm(nn.Module):\n",
    "\n",
    "    def __init__(self, normalized_shape, eps=1e-5):\n",
    "        super().__init__()\n",
    "    \n",
    "    def forward(self, x):\n",
    "        return x\n"
   ]
  },
  {
   "cell_type": "code",
   "execution_count": 4,
   "id": "d4876ce3",
   "metadata": {},
   "outputs": [
    {
     "name": "stdout",
     "output_type": "stream",
     "text": [
      "tensor([[6109, 3626, 6100,  345],\n",
      "        [6109, 1110, 6622,  257]])\n"
     ]
    }
   ],
   "source": [
    "import tiktoken\n",
    "\n",
    "tokenizer = tiktoken.get_encoding(\"gpt2\")\n",
    "batch = []\n",
    "txt1 = \"Every effort moves you\"\n",
    "txt2 = \"Every day holds a\"\n",
    "\n",
    "batch.append(torch.tensor(tokenizer.encode(txt1)))\n",
    "batch.append(torch.tensor(tokenizer.encode(txt2)))\n",
    "batch = torch.stack(batch, dim=0)\n",
    "print(batch)"
   ]
  },
  {
   "cell_type": "code",
   "execution_count": 5,
   "id": "a377afb7",
   "metadata": {},
   "outputs": [
    {
     "name": "stdout",
     "output_type": "stream",
     "text": [
      "Output_shape: torch.Size([2, 4, 50257])\n",
      "Output:  tensor([[[-1.2034,  0.3201, -0.7130,  ..., -1.5548, -0.2390, -0.4667],\n",
      "         [-0.1192,  0.4539, -0.4432,  ...,  0.2392,  1.3469,  1.2430],\n",
      "         [ 0.5307,  1.6720, -0.4695,  ...,  1.1966,  0.0111,  0.5835],\n",
      "         [ 0.0139,  1.6754, -0.3388,  ...,  1.1586, -0.0435, -1.0400]],\n",
      "\n",
      "        [[-1.0908,  0.1798, -0.9484,  ..., -1.6047,  0.2439, -0.4530],\n",
      "         [-0.7860,  0.5581, -0.0610,  ...,  0.4835, -0.0077,  1.6621],\n",
      "         [ 0.3567,  1.2698, -0.6398,  ..., -0.0162, -0.1296,  0.3717],\n",
      "         [-0.2407, -0.7349, -0.5102,  ...,  2.0057, -0.3694,  0.1814]]],\n",
      "       grad_fn=<UnsafeViewBackward0>)\n"
     ]
    }
   ],
   "source": [
    "torch.manual_seed(123)\n",
    "model = DummyGPTModel(GPT_CONFIG_124M)\n",
    "logits = model(batch)\n",
    "print(\"Output_shape:\" ,logits.shape)\n",
    "print(\"Output: \", logits)"
   ]
  },
  {
   "cell_type": "markdown",
   "id": "3f0e69a8",
   "metadata": {},
   "source": [
    "層正規化の実装"
   ]
  },
  {
   "cell_type": "code",
   "execution_count": 6,
   "id": "6cae875b",
   "metadata": {},
   "outputs": [
    {
     "name": "stdout",
     "output_type": "stream",
     "text": [
      "tensor([[0.2260, 0.3470, 0.0000, 0.2216, 0.0000, 0.0000],\n",
      "        [0.2133, 0.2394, 0.0000, 0.5198, 0.3297, 0.0000]],\n",
      "       grad_fn=<ReluBackward0>)\n"
     ]
    }
   ],
   "source": [
    "torch.manual_seed(123)\n",
    "batch_example = torch.randn(2,5)\n",
    "layer = nn.Sequential(nn.Linear(5,6), nn.ReLU())\n",
    "out = layer(batch_example)\n",
    "print(out)"
   ]
  },
  {
   "cell_type": "code",
   "execution_count": 7,
   "id": "686114b0",
   "metadata": {},
   "outputs": [
    {
     "name": "stdout",
     "output_type": "stream",
     "text": [
      "mean:  tensor([[0.1324],\n",
      "        [0.2170]], grad_fn=<MeanBackward1>)\n",
      "var:  tensor([[0.0231],\n",
      "        [0.0398]], grad_fn=<VarBackward0>)\n"
     ]
    }
   ],
   "source": [
    "mean = out.mean(dim=-1, keepdim=True)\n",
    "var = out.var(dim=-1, keepdim=True)\n",
    "print(\"mean: \", mean)\n",
    "print(\"var: \",var)"
   ]
  },
  {
   "cell_type": "code",
   "execution_count": 8,
   "id": "69174c5d",
   "metadata": {},
   "outputs": [
    {
     "name": "stdout",
     "output_type": "stream",
     "text": [
      "Normalized layer outputs:\n",
      " tensor([[ 0.6159,  1.4126, -0.8719,  0.5872, -0.8719, -0.8719],\n",
      "        [-0.0189,  0.1121, -1.0876,  1.5173,  0.5647, -1.0876]],\n",
      "       grad_fn=<DivBackward0>)\n",
      "mean:  tensor([[-5.9605e-08],\n",
      "        [ 1.9868e-08]], grad_fn=<MeanBackward1>)\n",
      "var:  tensor([[1.0000],\n",
      "        [1.0000]], grad_fn=<VarBackward0>)\n"
     ]
    }
   ],
   "source": [
    "out_norm = (out - mean) / torch.sqrt(var)\n",
    "print(\"Normalized layer outputs:\\n\" ,out_norm)\n",
    "\n",
    "mean_2 = out_norm.mean(dim=-1, keepdim=True)\n",
    "var_2 = out_norm.var(dim=-1, keepdim=True)\n",
    "print(\"mean: \", mean_2)\n",
    "print(\"var: \",var_2)"
   ]
  },
  {
   "cell_type": "markdown",
   "id": "cc0d04b9",
   "metadata": {},
   "source": [
    "classの定義"
   ]
  },
  {
   "cell_type": "code",
   "execution_count": 9,
   "id": "4d0052af",
   "metadata": {},
   "outputs": [],
   "source": [
    "class LayerNorm(nn.Module):\n",
    "    def __init__(self,emb_dim):\n",
    "        super().__init__()\n",
    "        self.eps = 1e-5\n",
    "        self.scale = nn.Parameter(torch.ones(emb_dim))\n",
    "        self.shift = nn.Parameter(torch.zeros(emb_dim))\n",
    "    \n",
    "    def forward(self, x):\n",
    "        mean = x.mean(dim=-1, keepdim=True)\n",
    "        var = x.var(dim=-1, keepdim=True, unbiased=False)\n",
    "        norm_x = (x - mean) / torch.sqrt(var + self.eps)\n",
    "        return self.scale * norm_x + self.shift\n",
    "\n"
   ]
  },
  {
   "cell_type": "code",
   "execution_count": 10,
   "id": "ec2b9c06",
   "metadata": {},
   "outputs": [
    {
     "name": "stdout",
     "output_type": "stream",
     "text": [
      "mean tensor([[-2.9802e-08],\n",
      "        [ 0.0000e+00]], grad_fn=<MeanBackward1>)\n",
      "var tensor([[1.0000],\n",
      "        [1.0000]], grad_fn=<VarBackward0>)\n"
     ]
    }
   ],
   "source": [
    "ln = LayerNorm(emb_dim = 5)\n",
    "out_ln = ln(batch_example)\n",
    "mean_3 = out_ln.mean(dim=-1, keepdim=True)\n",
    "var_3 = out_ln.var(dim=-1, keepdim=True, unbiased=False)\n",
    "print(\"mean\", mean_3)\n",
    "print(\"var\", var_3)"
   ]
  },
  {
   "cell_type": "markdown",
   "id": "e8f0d156",
   "metadata": {},
   "source": [
    "# GELU活性化を使ってフィードフォワードネットワークを実装する"
   ]
  },
  {
   "cell_type": "code",
   "execution_count": 11,
   "id": "11f6c565",
   "metadata": {},
   "outputs": [],
   "source": [
    "class GELU(nn.Module):\n",
    "    def __init__(self):\n",
    "        super().__init__()\n",
    "\n",
    "    def forward(self,x):\n",
    "        return 0.5 * x * (1 + torch.tanh( \n",
    "            torch.sqrt(torch.tensor(2.0 / torch.pi)) * (x + 0.44715 * torch.pow(x,3))\n",
    "            ))"
   ]
  },
  {
   "cell_type": "code",
   "execution_count": 12,
   "id": "65c11d29",
   "metadata": {},
   "outputs": [
    {
     "data": {
      "image/png": "[encoded data removed]",
      "text/plain": [
       "<Figure size 800x300 with 2 Axes>"
      ]
     },
     "metadata": {},
     "output_type": "display_data"
    }
   ],
   "source": [
    "import matplotlib.pyplot as plt\n",
    "\n",
    "gelu, relu = GELU(), nn.ReLU()\n",
    "\n",
    "x = torch.linspace(-3,3,100)\n",
    "y_gelu, y_relu = gelu(x), relu(x)\n",
    "plt.figure(figsize =(8,3))\n",
    "\n",
    "for i, (y, label) in enumerate(zip([y_gelu,y_relu], [\"GELU\", \"ReLU\"]),1):\n",
    "    plt.subplot(1,2,i) # これで一つの画像を二つに分解しているらしい（iはどっちに書くか見たいな）\n",
    "    plt.plot(x,y)\n",
    "    plt.title(F\"{label} activation functions\")\n",
    "    plt.xlabel(\"x\")\n",
    "    plt.ylabel(\"y\")\n",
    "    plt.grid(True)\n",
    "\n",
    "plt.tight_layout()\n",
    "plt.show()"
   ]
  },
  {
   "cell_type": "code",
   "execution_count": 13,
   "id": "e8aa7d5e",
   "metadata": {},
   "outputs": [],
   "source": [
    "class FeedForward(nn.Module):\n",
    "    def __init__(self, cfg):\n",
    "        super().__init__()\n",
    "        self.layers = nn.Sequential(\n",
    "            nn.Linear(cfg[\"emb_dim\"], 4*cfg[\"emb_dim\"]),\n",
    "            GELU(),\n",
    "            nn.Linear(4*cfg[\"emb_dim\"], cfg[\"emb_dim\"]),\n",
    "        )\n",
    "    \n",
    "    def forward(self,x):\n",
    "        return self.layers(x)"
   ]
  },
  {
   "cell_type": "markdown",
   "id": "55662d6c",
   "metadata": {},
   "source": [
    "# ショートカット接続の実装"
   ]
  },
  {
   "cell_type": "code",
   "execution_count": 14,
   "id": "b7b56a40",
   "metadata": {},
   "outputs": [],
   "source": [
    "class ExampleDeepNeuralNetwork(nn.Module):\n",
    "    def __init__(self, layer_sizes, use_shortcut):\n",
    "        super().__init__()\n",
    "        self.user_shortcut = use_shortcut\n",
    "\n",
    "        self.layers = nn.ModuleList([\n",
    "            nn.Sequential(nn.Linear(layer_sizes[0], layer_sizes[1]),GELU()),\n",
    "            nn.Sequential(nn.Linear(layer_sizes[1], layer_sizes[2]),GELU()),\n",
    "            nn.Sequential(nn.Linear(layer_sizes[2], layer_sizes[3]),GELU()),\n",
    "            nn.Sequential(nn.Linear(layer_sizes[3], layer_sizes[4]),GELU()),\n",
    "            nn.Sequential(nn.Linear(layer_sizes[4], layer_sizes[5]),GELU())\n",
    "        ])\n",
    "\n",
    "    def forward(self, x):\n",
    "        for layer in self.layers:\n",
    "            layer_output = layer(x)\n",
    "            if self.user_shortcut and x.shape == layer_output.shape:\n",
    "                x = x + layer_output\n",
    "            else:\n",
    "                x = layer_output\n",
    "        return x"
   ]
  },
  {
   "cell_type": "code",
   "execution_count": 15,
   "id": "cadad959",
   "metadata": {},
   "outputs": [],
   "source": [
    "layer_sizes = [3,3,3,3,3,1]\n",
    "sample_input = torch.tensor([[1.,0.,-1.]])\n",
    "\n",
    "\n",
    "\n",
    "model_without_shortcut = ExampleDeepNeuralNetwork(\n",
    "    layer_sizes, use_shortcut=False\n",
    ")"
   ]
  },
  {
   "cell_type": "code",
   "execution_count": 16,
   "id": "1783eeca",
   "metadata": {},
   "outputs": [],
   "source": [
    "def print_gradients(model, x):\n",
    "    output = model(x)\n",
    "    target = torch.tensor([[0.]])\n",
    "\n",
    "    loss = nn.MSELoss()\n",
    "    loss = loss(output,target)\n",
    "\n",
    "    loss.backward()\n",
    "\n",
    "    for name, param in model.named_parameters():\n",
    "        if 'weight' in name:\n",
    "            print(f\"{name} has gradient mean of \"\n",
    "                  f\"{param.grad.abs().mean().item()}\")\n",
    "            "
   ]
  },
  {
   "cell_type": "code",
   "execution_count": 17,
   "id": "cb6bc1bc",
   "metadata": {},
   "outputs": [
    {
     "name": "stdout",
     "output_type": "stream",
     "text": [
      "layers.0.0.weight has gradient mean of 0.00022910122061148286\n",
      "layers.1.0.weight has gradient mean of 0.00032500529778189957\n",
      "layers.2.0.weight has gradient mean of 0.0010107634589076042\n",
      "layers.3.0.weight has gradient mean of 0.006122054066509008\n",
      "layers.4.0.weight has gradient mean of 0.06471908092498779\n"
     ]
    }
   ],
   "source": [
    "print_gradients(model_without_shortcut, sample_input)"
   ]
  },
  {
   "cell_type": "code",
   "execution_count": 18,
   "id": "ccd5ebe7",
   "metadata": {},
   "outputs": [
    {
     "name": "stdout",
     "output_type": "stream",
     "text": [
      "layers.0.0.weight has gradient mean of 0.29920274019241333\n",
      "layers.1.0.weight has gradient mean of 0.2749510407447815\n",
      "layers.2.0.weight has gradient mean of 0.454661101102829\n",
      "layers.3.0.weight has gradient mean of 0.3629586398601532\n",
      "layers.4.0.weight has gradient mean of 1.763088583946228\n"
     ]
    }
   ],
   "source": [
    "torch.manual_seed(123)\n",
    "model_with_shortcut = ExampleDeepNeuralNetwork(\n",
    "    layer_sizes, use_shortcut=True\n",
    ")\n",
    "print_gradients(model_with_shortcut, sample_input)"
   ]
  },
  {
   "cell_type": "markdown",
   "id": "e5d1b59f",
   "metadata": {},
   "source": [
    "# TransformerブロックでAttention層と線形層を接続する"
   ]
  },
  {
   "cell_type": "code",
   "execution_count": 19,
   "id": "e48cb849",
   "metadata": {},
   "outputs": [],
   "source": [
    "class MultiHeadAttention(nn.Module):\n",
    "    def __init__(self,d_in,d_out,context_length,dropout_rate, num_heads, qkv_bias=False):\n",
    "        super().__init__()\n",
    "        assert (d_out % num_heads == 0), \"d_out must be divisible by num_heads\"\n",
    "\n",
    "        self.d_out = d_out\n",
    "        self.num_heads = num_heads\n",
    "        self.head_dim = d_out // num_heads\n",
    "\n",
    "        self.W_query = nn.Linear(d_in,d_out, bias=qkv_bias)\n",
    "        self.W_key = nn.Linear(d_in,d_out, bias=qkv_bias)\n",
    "        self.W_value = nn.Linear(d_in,d_out, bias= qkv_bias)\n",
    "\n",
    "        self.out_proj = nn.Linear(d_out, d_out)\n",
    "        self.dropout = nn.Dropout(dropout_rate)\n",
    "        self.register_buffer(\n",
    "            'mask',\n",
    "            torch.triu(torch.ones(context_length, context_length), diagonal=1)\n",
    "        )\n",
    "\n",
    "    def forward(self, x):\n",
    "        b, num_tokens, d_in = x.shape\n",
    "\n",
    "        keys = self.W_key(x)\n",
    "        queries = self.W_query(x)\n",
    "        values = self.W_value(x)\n",
    "\n",
    "        keys = keys.view(b, num_tokens, self.num_heads, self.head_dim)\n",
    "        queries = queries.view(b, num_tokens, self.num_heads, self.head_dim)\n",
    "        values = values.view(b, num_tokens, self.num_heads, self.head_dim)\n",
    "\n",
    "        keys = keys.transpose(1,2)\n",
    "        queries = queries.transpose(1,2)\n",
    "        values = values.transpose(1,2)\n",
    "\n",
    "        attn_scores = queries @ keys.transpose(2,3)\n",
    "\n",
    "        mask_bool = self.mask.bool()[:num_tokens, :num_tokens]\n",
    "\n",
    "        attn_scores.masked_fill(mask_bool, -torch.inf)\n",
    "                                \n",
    "        attn_weights = torch.softmax(attn_scores / keys.shape[-1]** 0.5, dim=-1)\n",
    "        attn_weights = self.dropout(attn_weights)\n",
    "\n",
    "        context_vec = (attn_weights @ values).transpose(1,2)\n",
    "        context_vec = context_vec.contiguous().view(\n",
    "            b, num_tokens, self.d_out\n",
    "        )\n",
    "        context_vec = self.out_proj(context_vec)\n",
    "\n",
    "        return context_vec\n"
   ]
  },
  {
   "cell_type": "code",
   "execution_count": 20,
   "id": "d31f3e38",
   "metadata": {},
   "outputs": [],
   "source": [
    "class TransformerBlock(nn.Module):\n",
    "    def __init__(self, cfg):\n",
    "        super().__init__()\n",
    "        self.att = MultiHeadAttention(\n",
    "            d_in=cfg[\"emb_dim\"],\n",
    "            d_out=cfg[\"emb_dim\"],\n",
    "            context_length=cfg[\"context_length\"],\n",
    "            dropout_rate=cfg[\"drop_rate\"],\n",
    "            num_heads=cfg[\"n_heads\"],\n",
    "            qkv_bias=cfg[\"qkv_bias\"]\n",
    "        )\n",
    "        self.ff = FeedForward(cfg)\n",
    "        self.norm1 = LayerNorm(cfg[\"emb_dim\"])\n",
    "        self.norm2 = LayerNorm(cfg[\"emb_dim\"])\n",
    "        self.drop_shortcut = nn.Dropout(cfg[\"drop_rate\"])\n",
    "    \n",
    "    def forward(self, x):\n",
    "        \n",
    "        shortcut = x\n",
    "        x = self.norm1(x)\n",
    "        x = self.att(x)\n",
    "        x = self.drop_shortcut(x)\n",
    "        x = x + shortcut\n",
    "\n",
    "        shortcut = x\n",
    "        x = self.norm2(x)\n",
    "        x = self.ff(x)\n",
    "        x = self.drop_shortcut(x)\n",
    "        x = x + shortcut\n",
    "        return x"
   ]
  },
  {
   "cell_type": "code",
   "execution_count": 21,
   "id": "71399e32",
   "metadata": {},
   "outputs": [
    {
     "name": "stdout",
     "output_type": "stream",
     "text": [
      "Input shape: torch.Size([2, 4, 768])\n",
      "Output shape: torch.Size([2, 4, 768])\n"
     ]
    }
   ],
   "source": [
    "torch.manual_seed(123)\n",
    "x = torch.rand(2,4,768)\n",
    "block = TransformerBlock(GPT_CONFIG_124M)\n",
    "output = block(x)\n",
    "\n",
    "print(\"Input shape:\", x.shape)\n",
    "print(\"Output shape:\", output.shape)"
   ]
  },
  {
   "cell_type": "markdown",
   "id": "69d01ab0",
   "metadata": {},
   "source": [
    "# GPT2の実装"
   ]
  },
  {
   "cell_type": "code",
   "execution_count": 22,
   "id": "47589b43",
   "metadata": {},
   "outputs": [],
   "source": [
    "class GPTModel(nn.Module):\n",
    "    def __init__(self, cfg):\n",
    "        super().__init__()\n",
    "        self.tok_emb = nn.Embedding(cfg[\"vocab_size\"], cfg[\"emb_dim\"])\n",
    "        self.pos_emb = nn.Embedding(cfg[\"context_length\"], cfg[\"emb_dim\"])\n",
    "        self.drop_emb = nn.Dropout(cfg[\"drop_rate\"])\n",
    "\n",
    "        self.trf_blocks = nn.Sequential(\n",
    "            *[TransformerBlock(cfg) for _ in range(cfg[\"n_layers\"])]\n",
    "        )\n",
    "        self.final_norm = LayerNorm(cfg[\"emb_dim\"])\n",
    "        self.out_head = nn.Linear(\n",
    "            cfg[\"emb_dim\"], cfg[\"vocab_size\"], bias=False\n",
    "        )\n",
    "    \n",
    "    def forward(self, in_idx):\n",
    "        batch_size, seq_len = in_idx.shape\n",
    "        tok_embeds = self.tok_emb(in_idx)\n",
    "\n",
    "        pos_embeds = self.pos_emb(\n",
    "            torch.arange(seq_len, device=in_idx.device)\n",
    "        )\n",
    "        x = tok_embeds + pos_embeds\n",
    "        x = self.drop_emb(x)\n",
    "        x = self.trf_blocks(x)\n",
    "        x = self.final_norm(x)\n",
    "        logits = self.out_head(x)\n",
    "\n",
    "        return logits\n"
   ]
  },
  {
   "cell_type": "code",
   "execution_count": 23,
   "id": "410c732c",
   "metadata": {},
   "outputs": [
    {
     "name": "stdout",
     "output_type": "stream",
     "text": [
      "config: \n",
      " {'vocab_size': 50257, 'context_length': 1024, 'emb_dim': 768, 'n_heads': 12, 'n_layers': 12, 'drop_rate': 0.1, 'qkv_bias': False}\n",
      "batch: \n",
      " tensor([[6109, 3626, 6100,  345],\n",
      "        [6109, 1110, 6622,  257]])\n",
      "out: \n",
      " tensor([[[ 0.3680, -0.0512, -0.2017,  ...,  0.3796,  0.0994, -0.1771],\n",
      "         [ 0.3056, -0.6867, -0.9142,  ..., -0.2566,  0.2698, -0.2660],\n",
      "         [ 0.9968,  0.0474, -0.3311,  ...,  0.0242, -0.4969, -0.1374],\n",
      "         [-0.9144,  0.5091, -0.2184,  ...,  0.6625,  0.3697,  0.1258]],\n",
      "\n",
      "        [[-0.5439, -0.2650, -0.0717,  ...,  0.2004,  0.1287, -0.3478],\n",
      "         [ 0.2217,  0.4015, -0.1623,  ...,  0.6635, -0.0920,  0.4626],\n",
      "         [ 1.1449,  0.7195, -0.1851,  ...,  0.8189,  0.1938, -0.2751],\n",
      "         [-0.1554,  0.5992,  0.2413,  ...,  1.2204, -0.2179, -0.0131]]],\n",
      "       grad_fn=<UnsafeViewBackward0>)\n",
      "input_shape:  torch.Size([2, 4])\n",
      "output_shape:  torch.Size([2, 4, 50257])\n"
     ]
    }
   ],
   "source": [
    "torch.manual_seed(123)\n",
    "model = GPTModel(GPT_CONFIG_124M)\n",
    "\n",
    "print(\"config: \\n\", GPT_CONFIG_124M)\n",
    "print(\"batch: \\n\", batch)\n",
    "out = model(batch)\n",
    "print(\"out: \\n\", out)\n",
    "\n",
    "print(\"input_shape: \", batch.shape)\n",
    "print(\"output_shape: \", out.shape)\n"
   ]
  },
  {
   "cell_type": "code",
   "execution_count": 24,
   "id": "d78c73c0",
   "metadata": {},
   "outputs": [
    {
     "name": "stdout",
     "output_type": "stream",
     "text": [
      "Tortal number of parameters: 163,009,536\n"
     ]
    }
   ],
   "source": [
    "total_params = sum(p.numel() for p in model.parameters())\n",
    "print(f\"Tortal number of parameters: {total_params:,}\")"
   ]
  },
  {
   "cell_type": "markdown",
   "id": "51aea655",
   "metadata": {},
   "source": [
    "# テキストを生成する"
   ]
  },
  {
   "cell_type": "code",
   "execution_count": 25,
   "id": "04a9f74a",
   "metadata": {},
   "outputs": [],
   "source": [
    "def generate_text_sample(model, idx, max_new_tokens, context_size):\n",
    "\n",
    "    for _ in range(max_new_tokens):\n",
    "        idx_cond = idx[:, -context_size:]\n",
    "        with torch.no_grad():\n",
    "            logits = model(idx_cond)\n",
    "        \n",
    "        logits = logits[:, -1, :]\n",
    "        probas = torch.softmax(logits, dim=-1)\n",
    "        idx_next = torch.argmax(probas, dim=-1, keepdim=True)\n",
    "        idx = torch.cat((idx, idx_next), dim=1)\n",
    "    \n",
    "    return idx"
   ]
  },
  {
   "cell_type": "code",
   "execution_count": 26,
   "id": "e33f4f77",
   "metadata": {},
   "outputs": [
    {
     "name": "stdout",
     "output_type": "stream",
     "text": [
      "encoded: [15496, 11, 314, 716]\n",
      "encoded_tensor.shape:  torch.Size([1, 4])\n"
     ]
    }
   ],
   "source": [
    "start_context = \"Hello, I am\"\n",
    "encoded = tokenizer.encode(start_context)\n",
    "print(\"encoded:\", encoded)\n",
    "encoded_tensor = torch.tensor(encoded).unsqueeze(0)\n",
    "print(\"encoded_tensor.shape: \", encoded_tensor.shape)"
   ]
  },
  {
   "cell_type": "code",
   "execution_count": 27,
   "id": "390fb374",
   "metadata": {},
   "outputs": [
    {
     "name": "stdout",
     "output_type": "stream",
     "text": [
      "out:  tensor([[15496,    11,   314,   716, 27018,  7283, 46275, 41426,   484, 29248]])\n"
     ]
    }
   ],
   "source": [
    "model.eval()\n",
    "\n",
    "out = generate_text_sample(\n",
    "    model=model,\n",
    "    idx = encoded_tensor,\n",
    "    max_new_tokens=6,\n",
    "    context_size= GPT_CONFIG_124M[\"context_length\"]\n",
    "\n",
    ")\n",
    "print(\"out: \",out)"
   ]
  },
  {
   "cell_type": "code",
   "execution_count": 28,
   "id": "b5c6195e",
   "metadata": {},
   "outputs": [
    {
     "name": "stdout",
     "output_type": "stream",
     "text": [
      "Hello, I am Feature IT snowballProtect they stereotyp\n"
     ]
    }
   ],
   "source": [
    "decoded_text = tokenizer.decode(out.squeeze(0).tolist())\n",
    "print(decoded_text)"
   ]
  },
  {
   "cell_type": "markdown",
   "id": "a4ce677d",
   "metadata": {},
   "source": []
  },
  {
   "cell_type": "markdown",
   "id": "cb47f61d",
   "metadata": {},
   "source": [
    "# 練習問題4-1"
   ]
  },
  {
   "cell_type": "code",
   "execution_count": null,
   "id": "c69860c7",
   "metadata": {},
   "outputs": [
    {
     "name": "stdout",
     "output_type": "stream",
     "text": [
      "Total number of parameters:  163,009,536\n"
     ]
    }
   ],
   "source": [
    "total_params = sum(p.numel() for p in model.parameters())\n",
    "print(f\"Total number of parameters: {total_params: ,}\")"
   ]
  },
  {
   "cell_type": "markdown",
   "id": "5ab09b94",
   "metadata": {},
   "source": [
    "model.parametersの中身はなんだろ"
   ]
  },
  {
   "cell_type": "code",
   "execution_count": 34,
   "id": "dfb50d2a",
   "metadata": {},
   "outputs": [
    {
     "name": "stdout",
     "output_type": "stream",
     "text": [
      "161\n"
     ]
    }
   ],
   "source": [
    "i = 0\n",
    "for p in model.parameters():\n",
    "    i = i +1\n",
    "print(i)"
   ]
  },
  {
   "cell_type": "code",
   "execution_count": 35,
   "id": "1548cf6c",
   "metadata": {},
   "outputs": [
    {
     "name": "stdout",
     "output_type": "stream",
     "text": [
      "4722432\n"
     ]
    }
   ],
   "source": [
    "ff_model = FeedForward(GPT_CONFIG_124M)\n",
    "ff_model_parameter_sum = sum(p.numel() for p in ff_model.parameters())\n",
    "print(ff_model_parameter_sum)"
   ]
  },
  {
   "cell_type": "code",
   "execution_count": 36,
   "id": "06eb07ae",
   "metadata": {},
   "outputs": [
    {
     "name": "stdout",
     "output_type": "stream",
     "text": [
      "2360064\n"
     ]
    }
   ],
   "source": [
    "cfg = GPT_CONFIG_124M\n",
    "att_model = MultiHeadAttention(\n",
    "    d_in=cfg[\"emb_dim\"],\n",
    "    d_out=cfg[\"emb_dim\"],\n",
    "    context_length=cfg[\"context_length\"],\n",
    "    dropout_rate=cfg[\"drop_rate\"],\n",
    "    num_heads=cfg[\"n_heads\"],\n",
    "    qkv_bias=cfg[\"qkv_bias\"]\n",
    ")\n",
    "att_model_parameter_sum = sum(p.numel() for p in att_model.parameters())\n",
    "print(att_model_parameter_sum)"
   ]
  },
  {
   "cell_type": "code",
   "execution_count": 38,
   "id": "5451abd3",
   "metadata": {},
   "outputs": [
    {
     "name": "stdout",
     "output_type": "stream",
     "text": [
      "4722432\n",
      "2360064\n"
     ]
    }
   ],
   "source": [
    "block = TransformerBlock(GPT_CONFIG_124M)\n",
    "\n",
    "block_ff_model_parameter_sum = sum(p.numel() for p in block.ff.parameters())\n",
    "block_att_model_parameter_sum = sum(p.numel() for p in block.att.parameters())\n",
    "\n",
    "print(block_ff_model_parameter_sum)\n",
    "print(block_att_model_parameter_sum)"
   ]
  },
  {
   "cell_type": "markdown",
   "id": "f54bc3c6",
   "metadata": {},
   "source": [
    "# 練習問題4-2"
   ]
  },
  {
   "cell_type": "code",
   "execution_count": 42,
   "id": "97df962f",
   "metadata": {},
   "outputs": [],
   "source": [
    "def print_sum_parameters(model):\n",
    "    total_params = sum(p.numel() for p in model.parameters())\n",
    "    print(f\"Total number of parameters: {total_params: ,}\")"
   ]
  },
  {
   "cell_type": "code",
   "execution_count": 43,
   "id": "087ed28c",
   "metadata": {},
   "outputs": [],
   "source": [
    "gpt2_medium = GPTModel(\n",
    "    {\n",
    "        \"vocab_size\": 50257,\n",
    "        \"context_length\": 1024,\n",
    "        \"emb_dim\": 1024,\n",
    "        \"n_heads\": 16,\n",
    "        \"n_layers\": 24,\n",
    "        \"drop_rate\": 0.1,\n",
    "        \"qkv_bias\": False\n",
    "    }\n",
    ")\n",
    "\n",
    "gpt2_large = GPTModel(\n",
    "    {\n",
    "        \"vocab_size\": 50257,\n",
    "        \"context_length\": 1024,\n",
    "        \"emb_dim\": 1280,\n",
    "        \"n_heads\": 20,\n",
    "        \"n_layers\": 36,\n",
    "        \"drop_rate\": 0.1,\n",
    "        \"qkv_bias\": False\n",
    "    }\n",
    ")\n",
    "\n",
    "gpt2_XL = GPTModel(\n",
    "    {\n",
    "        \"vocab_size\": 50257,\n",
    "        \"context_length\": 1024,\n",
    "        \"emb_dim\": 1600,\n",
    "        \"n_heads\": 25,\n",
    "        \"n_layers\": 48,\n",
    "        \"drop_rate\": 0.1,\n",
    "        \"qkv_bias\": False\n",
    "    }\n",
    ")"
   ]
  },
  {
   "cell_type": "code",
   "execution_count": 44,
   "id": "cd236362",
   "metadata": {},
   "outputs": [
    {
     "name": "stdout",
     "output_type": "stream",
     "text": [
      "Total number of parameters:  406,212,608\n",
      "Total number of parameters:  838,220,800\n",
      "Total number of parameters:  1,637,792,000\n"
     ]
    }
   ],
   "source": [
    "print_sum_parameters(gpt2_medium)\n",
    "print_sum_parameters(gpt2_large)\n",
    "print_sum_parameters(gpt2_XL)"
   ]
  },
  {
   "cell_type": "markdown",
   "id": "117b9e2a",
   "metadata": {},
   "source": [
    "# 練習問題4-3"
   ]
  },
  {
   "cell_type": "code",
   "execution_count": null,
   "id": "e29a1631",
   "metadata": {},
   "outputs": [],
   "source": []
  },
  {
   "cell_type": "markdown",
   "id": "ab5f58e8",
   "metadata": {},
   "source": []
  }
 ],
 "metadata": {
  "kernelspec": {
   "display_name": "LLMfromScratch",
   "language": "python",
   "name": "python3"
  },
  "language_info": {
   "codemirror_mode": {
    "name": "ipython",
    "version": 3
   },
   "file_extension": ".py",
   "mimetype": "text/x-python",
   "name": "python",
   "nbconvert_exporter": "python",
   "pygments_lexer": "ipython3",
   "version": "3.13.2"
  }
 },
 "nbformat": 4,
 "nbformat_minor": 5
}
